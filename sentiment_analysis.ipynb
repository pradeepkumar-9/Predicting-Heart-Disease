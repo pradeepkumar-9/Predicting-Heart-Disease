{
  "nbformat": 4,
  "nbformat_minor": 0,
  "metadata": {
    "colab": {
      "provenance": [],
      "authorship_tag": "ABX9TyOoAJRXqmFTsRWpY0o6wWSE",
      "include_colab_link": true
    },
    "kernelspec": {
      "name": "python3",
      "display_name": "Python 3"
    },
    "language_info": {
      "name": "python"
    }
  },
  "cells": [
    {
      "cell_type": "markdown",
      "metadata": {
        "id": "view-in-github",
        "colab_type": "text"
      },
      "source": [
        "<a href=\"https://colab.research.google.com/github/pradeepkumar-9/Predicting-Heart-Disease/blob/main/sentiment_analysis.ipynb\" target=\"_parent\"><img src=\"https://colab.research.google.com/assets/colab-badge.svg\" alt=\"Open In Colab\"/></a>"
      ]
    },
    {
      "cell_type": "code",
      "execution_count": 1,
      "metadata": {
        "colab": {
          "base_uri": "https://localhost:8080/"
        },
        "id": "O9SJvj8idY4C",
        "outputId": "cd03d77c-91a0-49e3-e752-066b95baab2d"
      },
      "outputs": [
        {
          "output_type": "stream",
          "name": "stdout",
          "text": [
            "   Unnamed: 0.1  Unnamed: 0  \\\n",
            "0             0           0   \n",
            "1             1           1   \n",
            "2             2           2   \n",
            "3             3           3   \n",
            "4             4           4   \n",
            "\n",
            "                                                Text    Sentiment  \\\n",
            "0   Enjoying a beautiful day at the park!        ...   Positive     \n",
            "1   Traffic was terrible this morning.           ...   Negative     \n",
            "2   Just finished an amazing workout! 💪          ...   Positive     \n",
            "3   Excited about the upcoming weekend getaway!  ...   Positive     \n",
            "4   Trying out a new recipe for dinner tonight.  ...   Neutral      \n",
            "\n",
            "             Timestamp            User     Platform  \\\n",
            "0  2023-01-15 12:30:00   User123          Twitter     \n",
            "1  2023-01-15 08:45:00   CommuterX        Twitter     \n",
            "2  2023-01-15 15:45:00   FitnessFan      Instagram    \n",
            "3  2023-01-15 18:20:00   AdventureX       Facebook    \n",
            "4  2023-01-15 19:55:00   ChefCook        Instagram    \n",
            "\n",
            "                                     Hashtags  Retweets  Likes       Country  \\\n",
            "0   #Nature #Park                                  15.0   30.0     USA         \n",
            "1   #Traffic #Morning                               5.0   10.0     Canada      \n",
            "2   #Fitness #Workout                              20.0   40.0   USA           \n",
            "3   #Travel #Adventure                              8.0   15.0     UK          \n",
            "4   #Cooking #Food                                 12.0   25.0    Australia    \n",
            "\n",
            "   Year  Month  Day  Hour  \n",
            "0  2023      1   15    12  \n",
            "1  2023      1   15     8  \n",
            "2  2023      1   15    15  \n",
            "3  2023      1   15    18  \n",
            "4  2023      1   15    19  \n"
          ]
        }
      ],
      "source": [
        "import pandas as pd\n",
        "\n",
        "# Load dataset\n",
        "df = pd.read_csv(\"sentimentdataset.csv\")\n",
        "\n",
        "# View first few rows\n",
        "print(df.head())"
      ]
    },
    {
      "cell_type": "code",
      "source": [
        "import pandas as pd\n",
        "import re\n",
        "\n",
        "# Load dataset\n",
        "df = pd.read_csv(\"sentimentdataset.csv\")\n",
        "\n",
        "# View the column names to identify the correct text column\n",
        "print(df.columns)\n",
        "\n",
        "def clean_text(text):\n",
        "    text = str(text).lower()                        # Lowercase\n",
        "    text = re.sub(r'http\\S+|www.\\S+', '', text)     # Remove URLs\n",
        "    text = re.sub(r'@\\w+|#\\w+', '', text)           # Remove mentions and hashtags\n",
        "    text = re.sub(r'[^\\w\\s]', '', text)             # Remove punctuation\n",
        "    text = re.sub(r'\\d+', '', text)                 # Remove numbers\n",
        "    return text\n",
        "\n",
        "# After viewing the column names, replace 'Tweet' with the actual column name\n",
        "# For example, if the column is named 'text_column':\n",
        "# df['cleaned_text'] = df['text_column'].apply(clean_text)\n",
        "\n",
        "# Keep the original line commented out for reference if needed\n",
        "# df['cleaned_text'] = df['Tweet'].apply(clean_text)  # Replace 'Tweet' with the correct column name if different"
      ],
      "metadata": {
        "colab": {
          "base_uri": "https://localhost:8080/"
        },
        "id": "BgPgA0ugd3ug",
        "outputId": "334c252b-8bcb-4101-b609-a3fdac199c00"
      },
      "execution_count": 3,
      "outputs": [
        {
          "output_type": "stream",
          "name": "stdout",
          "text": [
            "Index(['Unnamed: 0.1', 'Unnamed: 0', 'Text', 'Sentiment', 'Timestamp', 'User',\n",
            "       'Platform', 'Hashtags', 'Retweets', 'Likes', 'Country', 'Year', 'Month',\n",
            "       'Day', 'Hour'],\n",
            "      dtype='object')\n"
          ]
        }
      ]
    },
    {
      "cell_type": "code",
      "source": [
        "!pip install textblob"
      ],
      "metadata": {
        "colab": {
          "base_uri": "https://localhost:8080/"
        },
        "id": "r2owuQT_eGmj",
        "outputId": "020b89e5-8faa-4b92-ffc7-94e3d6a61da7"
      },
      "execution_count": 5,
      "outputs": [
        {
          "output_type": "stream",
          "name": "stdout",
          "text": [
            "Requirement already satisfied: textblob in /usr/local/lib/python3.11/dist-packages (0.19.0)\n",
            "Requirement already satisfied: nltk>=3.9 in /usr/local/lib/python3.11/dist-packages (from textblob) (3.9.1)\n",
            "Requirement already satisfied: click in /usr/local/lib/python3.11/dist-packages (from nltk>=3.9->textblob) (8.2.0)\n",
            "Requirement already satisfied: joblib in /usr/local/lib/python3.11/dist-packages (from nltk>=3.9->textblob) (1.5.0)\n",
            "Requirement already satisfied: regex>=2021.8.3 in /usr/local/lib/python3.11/dist-packages (from nltk>=3.9->textblob) (2024.11.6)\n",
            "Requirement already satisfied: tqdm in /usr/local/lib/python3.11/dist-packages (from nltk>=3.9->textblob) (4.67.1)\n"
          ]
        }
      ]
    },
    {
      "cell_type": "code",
      "source": [
        "\n",
        "\n",
        "def get_sentiment(text):\n",
        "    blob = TextBlob(text)\n",
        "    polarity = blob.sentiment.polarity\n",
        "    if polarity > 0:\n",
        "        return \"Positive\"\n",
        "    elif polarity < 0:\n",
        "        return \"Negative\"\n",
        "    else:\n",
        "        return \"Neutral\"\n",
        "\n",
        "# Apply the sentiment function to the newly created 'cleaned_text' column\n",
        "\n",
        "\n",
        "# Optionally, display the DataFrame with the new columns\n",
        "print(df.head())"
      ],
      "metadata": {
        "colab": {
          "base_uri": "https://localhost:8080/"
        },
        "id": "OR8eRkzHeJDj",
        "outputId": "911e240a-3483-484f-df56-2b1af996cc93"
      },
      "execution_count": 13,
      "outputs": [
        {
          "output_type": "stream",
          "name": "stdout",
          "text": [
            "   Unnamed: 0.1  Unnamed: 0  \\\n",
            "0             0           0   \n",
            "1             1           1   \n",
            "2             2           2   \n",
            "3             3           3   \n",
            "4             4           4   \n",
            "\n",
            "                                                Text    Sentiment  \\\n",
            "0   Enjoying a beautiful day at the park!        ...   Positive     \n",
            "1   Traffic was terrible this morning.           ...   Negative     \n",
            "2   Just finished an amazing workout! 💪          ...   Positive     \n",
            "3   Excited about the upcoming weekend getaway!  ...   Positive     \n",
            "4   Trying out a new recipe for dinner tonight.  ...   Neutral      \n",
            "\n",
            "             Timestamp            User     Platform  \\\n",
            "0  2023-01-15 12:30:00   User123          Twitter     \n",
            "1  2023-01-15 08:45:00   CommuterX        Twitter     \n",
            "2  2023-01-15 15:45:00   FitnessFan      Instagram    \n",
            "3  2023-01-15 18:20:00   AdventureX       Facebook    \n",
            "4  2023-01-15 19:55:00   ChefCook        Instagram    \n",
            "\n",
            "                                     Hashtags  Retweets  Likes       Country  \\\n",
            "0   #Nature #Park                                  15.0   30.0     USA         \n",
            "1   #Traffic #Morning                               5.0   10.0     Canada      \n",
            "2   #Fitness #Workout                              20.0   40.0   USA           \n",
            "3   #Travel #Adventure                              8.0   15.0     UK          \n",
            "4   #Cooking #Food                                 12.0   25.0    Australia    \n",
            "\n",
            "   Year  Month  Day  Hour  \n",
            "0  2023      1   15    12  \n",
            "1  2023      1   15     8  \n",
            "2  2023      1   15    15  \n",
            "3  2023      1   15    18  \n",
            "4  2023      1   15    19  \n"
          ]
        }
      ]
    },
    {
      "cell_type": "code",
      "source": [
        "# Save updated dataset with sentiments\n",
        "df.to_excel(\"Sentiment_Analysis_Results.xlsx\", index=False)\n"
      ],
      "metadata": {
        "id": "UjdZ8ijufP3E"
      },
      "execution_count": 14,
      "outputs": []
    },
    {
      "cell_type": "code",
      "source": [
        "import pandas as pd\n",
        "import plotly.graph_objects as go\n",
        "from plotly.subplots import make_subplots\n",
        "\n",
        "# Load your data\n",
        "df = pd.read_excel(\"Sentiment_Analysis_Results.xlsx\")\n",
        "\n",
        "# Clean duplicates\n",
        "df['Platform'] = df['Platform'].str.strip().str.capitalize()\n",
        "df['Country'] = df['Country'].str.strip()\n",
        "\n",
        "# Group data\n",
        "sentiment_counts = df['Sentiment'].value_counts()\n",
        "platform_counts = df['Platform'].value_counts()\n",
        "country_counts = df['Country'].value_counts().head(10)  # Top 10 only\n",
        "avg_likes = df.groupby('Sentiment')['Likes'].mean().reset_index()\n",
        "\n",
        "# Set up layout\n",
        "fig = make_subplots(\n",
        "    rows=2, cols=2,\n",
        "    subplot_titles=(\n",
        "        \"Sentiment Distribution\",\n",
        "        \"Posts by Platform\",\n",
        "        \"Avg Likes by Sentiment\",\n",
        "        \"Top 10 Countries by Post Count\"\n",
        "    ),\n",
        "    specs=[[{\"type\": \"domain\"}, {\"type\": \"xy\"}],\n",
        "           [{\"type\": \"xy\"}, {\"type\": \"xy\"}]]\n",
        ")\n",
        "\n",
        "# Pie Chart - Sentiment\n",
        "fig.add_trace(go.Pie(\n",
        "    labels=sentiment_counts.index,\n",
        "    values=sentiment_counts.values,\n",
        "    textinfo='percent+label',\n",
        "    name=\"Sentiment\",\n",
        "    hole=0.4\n",
        "), row=1, col=1)\n",
        "\n",
        "# Bar - Platform\n",
        "fig.add_trace(go.Bar(\n",
        "    x=platform_counts.index,\n",
        "    y=platform_counts.values,\n",
        "    marker_color='indianred',\n",
        "    name=\"Platform\"\n",
        "), row=1, col=2)\n",
        "\n",
        "# Bar - Avg Likes\n",
        "fig.add_trace(go.Bar(\n",
        "    x=avg_likes['Sentiment'],\n",
        "    y=avg_likes['Likes'],\n",
        "    marker_color='mediumseagreen',\n",
        "    name=\"Avg Likes\"\n",
        "), row=2, col=1)\n",
        "\n",
        "# Horizontal bar - Top Countries\n",
        "fig.add_trace(go.Bar(\n",
        "    y=country_counts.index[::-1],\n",
        "    x=country_counts.values[::-1],\n",
        "    orientation='h',\n",
        "    marker_color='steelblue',\n",
        "    name=\"Country\"\n",
        "), row=2, col=2)\n",
        "\n",
        "# Layout formatting\n",
        "fig.update_layout(\n",
        "    height=800,\n",
        "    width=1100,\n",
        "    title_text=\"📊 Social Media Sentiment Dashboard\",\n",
        "    title_x=0.5,\n",
        "    template='plotly_white',\n",
        "    showlegend=False\n",
        ")\n",
        "\n",
        "fig.show()\n"
      ],
      "metadata": {
        "colab": {
          "base_uri": "https://localhost:8080/",
          "height": 837
        },
        "id": "gsWEX_l6ibro",
        "outputId": "ee0861ee-1cf8-4119-c7ff-311ba5c4cad3"
      },
      "execution_count": 20,
      "outputs": [
        {
          "output_type": "display_data",
          "data": {
            "text/html": [
              "<html>\n",
              "<head><meta charset=\"utf-8\" /></head>\n",
              "<body>\n",
              "    <div>            <script src=\"https://cdnjs.cloudflare.com/ajax/libs/mathjax/2.7.5/MathJax.js?config=TeX-AMS-MML_SVG\"></script><script type=\"text/javascript\">if (window.MathJax && window.MathJax.Hub && window.MathJax.Hub.Config) {window.MathJax.Hub.Config({SVG: {font: \"STIX-Web\"}});}</script>                <script type=\"text/javascript\">window.PlotlyConfig = {MathJaxConfig: 'local'};</script>\n",
              "        <script charset=\"utf-8\" src=\"https://cdn.plot.ly/plotly-2.35.2.min.js\"></script>                <div id=\"1efa5638-48df-4e36-bbf8-73a1563a220e\" class=\"plotly-graph-div\" style=\"height:800px; width:1100px;\"></div>            <script type=\"text/javascript\">                                    window.PLOTLYENV=window.PLOTLYENV || {};                                    if (document.getElementById(\"1efa5638-48df-4e36-bbf8-73a1563a220e\")) {                    Plotly.newPlot(                        \"1efa5638-48df-4e36-bbf8-73a1563a220e\",                        [{\"hole\":0.4,\"labels\":[\" Positive  \",\" Joy \",\" Excitement \",\" Happy \",\" Neutral \",\" Contentment \",\" Gratitude \",\" Hopeful \",\" Sad \",\" Curiosity \",\" Embarrassed \",\" Loneliness \",\" Elation       \",\" Despair \",\" Playful \",\" Bad \",\" Hate \",\" Serenity      \",\" Gratitude     \",\" Contentment   \",\" Empowerment   \",\" Confusion       \",\" Numbness        \",\" Melancholy      \",\" Nostalgia       \",\" Ambivalence     \",\" Indifference    \",\" Curiosity       \",\" Determination   \",\" Inspired \",\" Frustrated \",\" Serenity        \",\" Acceptance      \",\" Enthusiasm    \",\" Bitterness \",\" Negative  \",\" Neutral   \",\" Nostalgia \",\" Desolation \",\" Grief \",\" Betrayal \",\" Excitement   \",\" Awe \",\" Hope          \",\" Euphoria      \",\" Grateful \",\" Proud \",\" Serenity \",\" Compassionate \",\" Inspiration \",\" Tenderness    \",\" Arousal       \",\" Frustration \",\" Acceptance   \",\" Bitter       \",\" Boredom         \",\" Devastated \",\" Envious \",\" Compassion    \",\" Accomplishment \",\" Resentment      \",\" Grief           \",\" Dismissive \",\" Jealous \",\" Free-spirited \",\" Confident \",\" Empathetic \",\" Overwhelmed \",\" Fearful \",\" Regret \",\" Adventure \",\" Pride \",\" Surprise \",\" Kind         \",\" Calmness     \",\" Pride        \",\" Mischievous \",\" Love         \",\" Joy          \",\" Awe          \",\" Envy            \",\" Disgust         \",\" Happiness    \",\" Enjoyment    \",\" Admiration   \",\" Disgust      \",\" Sadness      \",\" Reverence \",\" Reflection    \",\" Contemplation \",\" Despair         \",\" Frustration     \",\" Jealousy        \",\" Fulfillment   \",\" Reverence     \",\" Apprehensive \",\" Zest \",\" Fulfillment  \",\" Determination \",\" Yearning \",\" Enchantment \",\" Exploration \",\" Shame        \",\" Whimsy        \",\" Awe    \",\" Coziness     \",\" Rejuvenation \",\" Enchantment   \",\" Heartbreak \",\" Disappointment \",\" Loss \",\" Gratitude  \",\" Affection    \",\" Surprise     \",\" Disappointed \",\" Adoration    \",\" Anticipation \",\" Satisfaction \",\" Fear         \",\" Anger        \",\" Despair   \",\" Grief      \",\" Isolation \",\" Happiness \",\" Confusion    \",\" Thrill \",\" Enthusiasm \",\" Reflection \",\" Tranquility \",\" Emotion \",\" Creativity \",\" Captivation \",\" Amusement    \",\" Regret         \",\" Celestial Wonder \",\" Intimidation    \",\" Helplessness    \",\" Positive \",\" Anxiety         \",\" Boredom \",\" Indifference \",\" Disgust \",\" Relief \",\" Whispers of the Past \",\" Ocean's Freedom \",\" Runway Creativity \",\" Anxiety   \",\" Ambivalence \",\" Helplessness \",\" Nature's Beauty \",\" Creative Inspiration \",\" Curiosity   \",\" Loneliness      \",\" Elation   \",\" Compassion\",\" Pride         \",\" Happiness     \",\" Amusement     \",\" JoyfulReunion \",\" Anticipation  \",\" Blessed       \",\" Appreciation  \",\" Nostalgia     \",\" Confidence    \",\" Surprise      \",\" Wonderment    \",\" Optimism      \",\" Motivation    \",\" Excitement    \",\" Satisfaction  \",\" Despair      \",\" Intimidation \",\" Awe           \",\" Nostalgia      \",\" Thrill        \",\" Calmness      \",\" Overwhelmed   \",\" Gratitude   \",\" Bittersweet \",\" Curiosity     \",\" Admiration    \",\" Overjoyed     \",\" Inspiration   \",\" Jealousy    \",\" Numbness \",\" Euphoria     \",\" Wonder       \",\" Radiance      \",\" CulinaryOdyssey \",\" Inspiration  \",\" Adrenaline     \",\" Heartbreak    \",\" Serenity   \",\" Marvel       \",\" Curiosity  \",\" Gratitude    \",\" ArtisticBurst \",\" Harmony       \",\" Mindfulness   \",\" Wonder     \",\" Harmony    \",\" Euphoria   \",\" Melodic       \",\" FestiveJoy    \",\" InnerJourney  \",\" Freedom       \",\" Dazzle        \",\" Pensive \",\" Elegance \",\" DreamChaser   \",\" Thrill      \",\" Radiance    \",\" Creativity   \",\" PlayfulJoy    \",\" Intrigue      \",\" Solitude \",\" Heartache \",\" Resilience \",\" Sorrow \",\" Sorrow      \",\" Darkness     \",\" Desperation \",\" Ruins      \",\" Exhaustion \",\" Melancholy \",\" LostLove \",\" Loneliness    \",\" Betrayal      \",\" Suffering \",\" EmotionalStorm \",\" Regret        \",\" Spark        \",\" Immersion \",\" Resilience   \",\" Positivity \",\" Shame \",\" Confusion \",\" Love \",\" Amazement \",\" Grandeur \",\" Wonder \",\" Celebration \",\" Energy \",\" Friendship \",\" Kindness \",\" Romance \",\" Success \",\" Colorful \",\" Hope \",\" Ecstasy \",\" Charm \",\" Euphoria \",\" Journey \",\" Connection \",\" Hypnotic \",\" Touched \",\" Suspense \",\" Admiration \",\" Triumph \",\" Heartwarming \",\" Obstacle \",\" Engagement \",\" Iconic \",\" Pressure \",\" Sympathy \",\" Renewed Effort \",\" Miscalculation \",\" Breakthrough \",\" Harmony \",\" Challenge \",\" Solace \",\" Envisioning History \",\" Joy in Baking \",\" Imagination \",\" Vibrancy \",\" Culinary Adventure \",\" Mesmerizing \",\" Thrilling Journey \",\" Winter Magic \"],\"name\":\"Sentiment\",\"textinfo\":\"percent+label\",\"values\":[44,42,32,14,14,14,9,9,9,8,8,7,6,6,6,6,6,5,5,5,5,5,5,5,5,5,5,5,5,5,5,5,5,5,5,4,4,4,4,4,4,4,4,4,4,4,4,4,4,4,4,4,4,3,3,3,3,3,3,3,3,3,3,3,3,3,3,3,3,3,3,3,3,3,3,3,2,2,2,2,2,2,2,2,2,2,2,2,2,2,2,2,2,2,2,2,2,2,2,2,2,2,2,2,2,2,2,2,2,2,2,2,2,2,2,2,2,2,2,2,2,2,2,2,2,2,2,2,2,2,2,2,2,2,1,1,1,1,1,1,1,1,1,1,1,1,1,1,1,1,1,1,1,1,1,1,1,1,1,1,1,1,1,1,1,1,1,1,1,1,1,1,1,1,1,1,1,1,1,1,1,1,1,1,1,1,1,1,1,1,1,1,1,1,1,1,1,1,1,1,1,1,1,1,1,1,1,1,1,1,1,1,1,1,1,1,1,1,1,1,1,1,1,1,1,1,1,1,1,1,1,1,1,1,1,1,1,1,1,1,1,1,1,1,1,1,1,1,1,1,1,1,1,1,1,1,1,1,1,1,1,1,1,1,1,1,1,1,1,1,1,1,1,1,1,1,1,1,1],\"type\":\"pie\",\"domain\":{\"x\":[0.0,0.45],\"y\":[0.625,1.0]}},{\"marker\":{\"color\":\"indianred\"},\"name\":\"Platform\",\"x\":[\"Instagram\",\"Twitter\",\"Facebook\"],\"y\":[258,243,231],\"type\":\"bar\",\"xaxis\":\"x\",\"yaxis\":\"y\"},{\"marker\":{\"color\":\"mediumseagreen\"},\"name\":\"Avg Likes\",\"x\":[\" Acceptance   \",\" Acceptance      \",\" Accomplishment \",\" Admiration \",\" Admiration   \",\" Admiration    \",\" Adoration    \",\" Adrenaline     \",\" Adventure \",\" Affection    \",\" Amazement \",\" Ambivalence \",\" Ambivalence     \",\" Amusement    \",\" Amusement     \",\" Anger        \",\" Anticipation \",\" Anticipation  \",\" Anxiety   \",\" Anxiety         \",\" Appreciation  \",\" Apprehensive \",\" Arousal       \",\" ArtisticBurst \",\" Awe \",\" Awe    \",\" Awe          \",\" Awe           \",\" Bad \",\" Betrayal \",\" Betrayal      \",\" Bitter       \",\" Bitterness \",\" Bittersweet \",\" Blessed       \",\" Boredom \",\" Boredom         \",\" Breakthrough \",\" Calmness     \",\" Calmness      \",\" Captivation \",\" Celebration \",\" Celestial Wonder \",\" Challenge \",\" Charm \",\" Colorful \",\" Compassion\",\" Compassion    \",\" Compassionate \",\" Confidence    \",\" Confident \",\" Confusion \",\" Confusion    \",\" Confusion       \",\" Connection \",\" Contemplation \",\" Contentment \",\" Contentment   \",\" Coziness     \",\" Creative Inspiration \",\" Creativity \",\" Creativity   \",\" Culinary Adventure \",\" CulinaryOdyssey \",\" Curiosity \",\" Curiosity  \",\" Curiosity   \",\" Curiosity     \",\" Curiosity       \",\" Darkness     \",\" Dazzle        \",\" Desolation \",\" Despair \",\" Despair   \",\" Despair      \",\" Despair         \",\" Desperation \",\" Determination \",\" Determination   \",\" Devastated \",\" Disappointed \",\" Disappointment \",\" Disgust \",\" Disgust      \",\" Disgust         \",\" Dismissive \",\" DreamChaser   \",\" Ecstasy \",\" Elation   \",\" Elation       \",\" Elegance \",\" Embarrassed \",\" Emotion \",\" EmotionalStorm \",\" Empathetic \",\" Empowerment   \",\" Enchantment \",\" Enchantment   \",\" Energy \",\" Engagement \",\" Enjoyment    \",\" Enthusiasm \",\" Enthusiasm    \",\" Envious \",\" Envisioning History \",\" Envy            \",\" Euphoria \",\" Euphoria   \",\" Euphoria     \",\" Euphoria      \",\" Excitement \",\" Excitement   \",\" Excitement    \",\" Exhaustion \",\" Exploration \",\" Fear         \",\" Fearful \",\" FestiveJoy    \",\" Free-spirited \",\" Freedom       \",\" Friendship \",\" Frustrated \",\" Frustration \",\" Frustration     \",\" Fulfillment  \",\" Fulfillment   \",\" Grandeur \",\" Grateful \",\" Gratitude \",\" Gratitude  \",\" Gratitude   \",\" Gratitude    \",\" Gratitude     \",\" Grief \",\" Grief      \",\" Grief           \",\" Happiness \",\" Happiness    \",\" Happiness     \",\" Happy \",\" Harmony \",\" Harmony    \",\" Harmony       \",\" Hate \",\" Heartache \",\" Heartbreak \",\" Heartbreak    \",\" Heartwarming \",\" Helplessness \",\" Helplessness    \",\" Hope \",\" Hope          \",\" Hopeful \",\" Hypnotic \",\" Iconic \",\" Imagination \",\" Immersion \",\" Indifference \",\" Indifference    \",\" InnerJourney  \",\" Inspiration \",\" Inspiration  \",\" Inspiration   \",\" Inspired \",\" Intimidation \",\" Intimidation    \",\" Intrigue      \",\" Isolation \",\" Jealous \",\" Jealousy    \",\" Jealousy        \",\" Journey \",\" Joy \",\" Joy          \",\" Joy in Baking \",\" JoyfulReunion \",\" Kind         \",\" Kindness \",\" Loneliness \",\" Loneliness    \",\" Loneliness      \",\" Loss \",\" LostLove \",\" Love \",\" Love         \",\" Marvel       \",\" Melancholy \",\" Melancholy      \",\" Melodic       \",\" Mesmerizing \",\" Mindfulness   \",\" Miscalculation \",\" Mischievous \",\" Motivation    \",\" Nature's Beauty \",\" Negative  \",\" Neutral \",\" Neutral   \",\" Nostalgia \",\" Nostalgia     \",\" Nostalgia      \",\" Nostalgia       \",\" Numbness \",\" Numbness        \",\" Obstacle \",\" Ocean's Freedom \",\" Optimism      \",\" Overjoyed     \",\" Overwhelmed \",\" Overwhelmed   \",\" Pensive \",\" Playful \",\" PlayfulJoy    \",\" Positive \",\" Positive  \",\" Positivity \",\" Pressure \",\" Pride \",\" Pride        \",\" Pride         \",\" Proud \",\" Radiance    \",\" Radiance      \",\" Reflection \",\" Reflection    \",\" Regret \",\" Regret        \",\" Regret         \",\" Rejuvenation \",\" Relief \",\" Renewed Effort \",\" Resentment      \",\" Resilience \",\" Resilience   \",\" Reverence \",\" Reverence     \",\" Romance \",\" Ruins      \",\" Runway Creativity \",\" Sad \",\" Sadness      \",\" Satisfaction \",\" Satisfaction  \",\" Serenity \",\" Serenity   \",\" Serenity      \",\" Serenity        \",\" Shame \",\" Shame        \",\" Solace \",\" Solitude \",\" Sorrow \",\" Sorrow      \",\" Spark        \",\" Success \",\" Suffering \",\" Surprise \",\" Surprise     \",\" Surprise      \",\" Suspense \",\" Sympathy \",\" Tenderness    \",\" Thrill \",\" Thrill      \",\" Thrill        \",\" Thrilling Journey \",\" Touched \",\" Tranquility \",\" Triumph \",\" Vibrancy \",\" Whimsy        \",\" Whispers of the Past \",\" Winter Magic \",\" Wonder \",\" Wonder     \",\" Wonder       \",\" Wonderment    \",\" Yearning \",\" Zest \"],\"y\":[35.0,33.6,51.666666666666664,45.0,40.0,50.0,45.0,45.0,61.666666666666664,30.0,60.0,28.0,28.0,35.0,30.0,40.0,40.0,80.0,20.0,25.0,55.0,28.0,40.0,30.0,46.25,35.0,45.0,55.0,40.333333333333336,40.0,45.0,33.333333333333336,30.8,40.0,35.0,35.0,15.0,55.0,30.0,35.0,52.5,50.0,35.0,70.0,45.0,45.0,35.0,35.0,40.5,30.0,47.333333333333336,60.0,50.0,26.8,50.0,55.0,50.42857142857143,54.0,60.0,45.0,57.5,30.0,70.0,70.0,47.375,35.0,35.0,35.0,40.8,55.0,55.0,47.5,34.5,67.5,20.0,15.0,45.0,50.0,35.0,50.0,35.0,60.0,45.0,35.0,15.0,25.333333333333332,60.0,70.0,50.0,51.666666666666664,55.0,43.125,70.0,60.0,31.333333333333332,46.0,60.0,50.0,70.0,60.0,50.0,70.0,36.0,40.0,55.0,20.0,70.0,40.0,40.0,30.0,50.9375,42.5,60.0,70.0,37.5,30.0,32.666666666666664,45.0,42.666666666666664,60.0,60.0,28.0,47.5,22.5,45.0,45.0,45.0,38.5,51.666666666666664,45.0,70.0,35.0,45.0,47.5,50.0,21.666666666666668,65.0,60.0,30.0,45.142857142857146,35.0,70.0,70.0,38.333333333333336,60.0,45.0,30.0,45.0,15.0,15.0,60.0,40.0,28.88888888888889,55.0,45.0,70.0,40.0,40.0,17.8,70.0,51.25,55.0,60.0,31.6,30.0,30.0,35.0,65.0,32.0,15.0,20.0,60.0,49.476190476190474,45.0,45.0,40.0,41.666666666666664,50.0,34.714285714285715,35.0,20.0,50.0,45.0,70.0,30.0,45.0,35.0,25.6,35.0,80.0,70.0,55.0,57.5,80.0,55.0,25.0,42.07142857142857,35.0,50.0,40.0,45.0,23.0,20.0,18.4,45.0,45.0,40.0,35.0,42.666666666666664,50.0,35.0,48.0,45.0,55.0,37.38636363636363,35.0,35.0,43.333333333333336,48.333333333333336,55.0,47.0,50.0,50.0,57.5,52.5,40.0,35.0,25.0,35.0,40.0,45.0,18.333333333333332,70.0,70.0,35.0,35.0,40.0,40.0,55.0,37.22222222222222,50.0,50.0,50.0,37.75,55.0,41.0,45.0,30.0,30.0,60.0,60.0,45.0,35.0,60.0,45.0,50.0,45.0,50.0,35.0,70.0,55.0,50.0,62.5,45.0,80.0,45.0,55.0,65.0,35.0,45.0,40.0,70.0,60.0,60.0,80.0,80.0,70.0,20.0,31.0],\"type\":\"bar\",\"xaxis\":\"x2\",\"yaxis\":\"y2\"},{\"marker\":{\"color\":\"steelblue\"},\"name\":\"Country\",\"orientation\":\"h\",\"x\":[11,14,15,16,17,70,75,135,143,188],\"y\":[\"Italy\",\"Germany\",\"Japan\",\"France\",\"Brazil\",\"India\",\"Australia\",\"Canada\",\"UK\",\"USA\"],\"type\":\"bar\",\"xaxis\":\"x3\",\"yaxis\":\"y3\"}],                        {\"template\":{\"data\":{\"barpolar\":[{\"marker\":{\"line\":{\"color\":\"white\",\"width\":0.5},\"pattern\":{\"fillmode\":\"overlay\",\"size\":10,\"solidity\":0.2}},\"type\":\"barpolar\"}],\"bar\":[{\"error_x\":{\"color\":\"#2a3f5f\"},\"error_y\":{\"color\":\"#2a3f5f\"},\"marker\":{\"line\":{\"color\":\"white\",\"width\":0.5},\"pattern\":{\"fillmode\":\"overlay\",\"size\":10,\"solidity\":0.2}},\"type\":\"bar\"}],\"carpet\":[{\"aaxis\":{\"endlinecolor\":\"#2a3f5f\",\"gridcolor\":\"#C8D4E3\",\"linecolor\":\"#C8D4E3\",\"minorgridcolor\":\"#C8D4E3\",\"startlinecolor\":\"#2a3f5f\"},\"baxis\":{\"endlinecolor\":\"#2a3f5f\",\"gridcolor\":\"#C8D4E3\",\"linecolor\":\"#C8D4E3\",\"minorgridcolor\":\"#C8D4E3\",\"startlinecolor\":\"#2a3f5f\"},\"type\":\"carpet\"}],\"choropleth\":[{\"colorbar\":{\"outlinewidth\":0,\"ticks\":\"\"},\"type\":\"choropleth\"}],\"contourcarpet\":[{\"colorbar\":{\"outlinewidth\":0,\"ticks\":\"\"},\"type\":\"contourcarpet\"}],\"contour\":[{\"colorbar\":{\"outlinewidth\":0,\"ticks\":\"\"},\"colorscale\":[[0.0,\"#0d0887\"],[0.1111111111111111,\"#46039f\"],[0.2222222222222222,\"#7201a8\"],[0.3333333333333333,\"#9c179e\"],[0.4444444444444444,\"#bd3786\"],[0.5555555555555556,\"#d8576b\"],[0.6666666666666666,\"#ed7953\"],[0.7777777777777778,\"#fb9f3a\"],[0.8888888888888888,\"#fdca26\"],[1.0,\"#f0f921\"]],\"type\":\"contour\"}],\"heatmapgl\":[{\"colorbar\":{\"outlinewidth\":0,\"ticks\":\"\"},\"colorscale\":[[0.0,\"#0d0887\"],[0.1111111111111111,\"#46039f\"],[0.2222222222222222,\"#7201a8\"],[0.3333333333333333,\"#9c179e\"],[0.4444444444444444,\"#bd3786\"],[0.5555555555555556,\"#d8576b\"],[0.6666666666666666,\"#ed7953\"],[0.7777777777777778,\"#fb9f3a\"],[0.8888888888888888,\"#fdca26\"],[1.0,\"#f0f921\"]],\"type\":\"heatmapgl\"}],\"heatmap\":[{\"colorbar\":{\"outlinewidth\":0,\"ticks\":\"\"},\"colorscale\":[[0.0,\"#0d0887\"],[0.1111111111111111,\"#46039f\"],[0.2222222222222222,\"#7201a8\"],[0.3333333333333333,\"#9c179e\"],[0.4444444444444444,\"#bd3786\"],[0.5555555555555556,\"#d8576b\"],[0.6666666666666666,\"#ed7953\"],[0.7777777777777778,\"#fb9f3a\"],[0.8888888888888888,\"#fdca26\"],[1.0,\"#f0f921\"]],\"type\":\"heatmap\"}],\"histogram2dcontour\":[{\"colorbar\":{\"outlinewidth\":0,\"ticks\":\"\"},\"colorscale\":[[0.0,\"#0d0887\"],[0.1111111111111111,\"#46039f\"],[0.2222222222222222,\"#7201a8\"],[0.3333333333333333,\"#9c179e\"],[0.4444444444444444,\"#bd3786\"],[0.5555555555555556,\"#d8576b\"],[0.6666666666666666,\"#ed7953\"],[0.7777777777777778,\"#fb9f3a\"],[0.8888888888888888,\"#fdca26\"],[1.0,\"#f0f921\"]],\"type\":\"histogram2dcontour\"}],\"histogram2d\":[{\"colorbar\":{\"outlinewidth\":0,\"ticks\":\"\"},\"colorscale\":[[0.0,\"#0d0887\"],[0.1111111111111111,\"#46039f\"],[0.2222222222222222,\"#7201a8\"],[0.3333333333333333,\"#9c179e\"],[0.4444444444444444,\"#bd3786\"],[0.5555555555555556,\"#d8576b\"],[0.6666666666666666,\"#ed7953\"],[0.7777777777777778,\"#fb9f3a\"],[0.8888888888888888,\"#fdca26\"],[1.0,\"#f0f921\"]],\"type\":\"histogram2d\"}],\"histogram\":[{\"marker\":{\"pattern\":{\"fillmode\":\"overlay\",\"size\":10,\"solidity\":0.2}},\"type\":\"histogram\"}],\"mesh3d\":[{\"colorbar\":{\"outlinewidth\":0,\"ticks\":\"\"},\"type\":\"mesh3d\"}],\"parcoords\":[{\"line\":{\"colorbar\":{\"outlinewidth\":0,\"ticks\":\"\"}},\"type\":\"parcoords\"}],\"pie\":[{\"automargin\":true,\"type\":\"pie\"}],\"scatter3d\":[{\"line\":{\"colorbar\":{\"outlinewidth\":0,\"ticks\":\"\"}},\"marker\":{\"colorbar\":{\"outlinewidth\":0,\"ticks\":\"\"}},\"type\":\"scatter3d\"}],\"scattercarpet\":[{\"marker\":{\"colorbar\":{\"outlinewidth\":0,\"ticks\":\"\"}},\"type\":\"scattercarpet\"}],\"scattergeo\":[{\"marker\":{\"colorbar\":{\"outlinewidth\":0,\"ticks\":\"\"}},\"type\":\"scattergeo\"}],\"scattergl\":[{\"marker\":{\"colorbar\":{\"outlinewidth\":0,\"ticks\":\"\"}},\"type\":\"scattergl\"}],\"scattermapbox\":[{\"marker\":{\"colorbar\":{\"outlinewidth\":0,\"ticks\":\"\"}},\"type\":\"scattermapbox\"}],\"scatterpolargl\":[{\"marker\":{\"colorbar\":{\"outlinewidth\":0,\"ticks\":\"\"}},\"type\":\"scatterpolargl\"}],\"scatterpolar\":[{\"marker\":{\"colorbar\":{\"outlinewidth\":0,\"ticks\":\"\"}},\"type\":\"scatterpolar\"}],\"scatter\":[{\"fillpattern\":{\"fillmode\":\"overlay\",\"size\":10,\"solidity\":0.2},\"type\":\"scatter\"}],\"scatterternary\":[{\"marker\":{\"colorbar\":{\"outlinewidth\":0,\"ticks\":\"\"}},\"type\":\"scatterternary\"}],\"surface\":[{\"colorbar\":{\"outlinewidth\":0,\"ticks\":\"\"},\"colorscale\":[[0.0,\"#0d0887\"],[0.1111111111111111,\"#46039f\"],[0.2222222222222222,\"#7201a8\"],[0.3333333333333333,\"#9c179e\"],[0.4444444444444444,\"#bd3786\"],[0.5555555555555556,\"#d8576b\"],[0.6666666666666666,\"#ed7953\"],[0.7777777777777778,\"#fb9f3a\"],[0.8888888888888888,\"#fdca26\"],[1.0,\"#f0f921\"]],\"type\":\"surface\"}],\"table\":[{\"cells\":{\"fill\":{\"color\":\"#EBF0F8\"},\"line\":{\"color\":\"white\"}},\"header\":{\"fill\":{\"color\":\"#C8D4E3\"},\"line\":{\"color\":\"white\"}},\"type\":\"table\"}]},\"layout\":{\"annotationdefaults\":{\"arrowcolor\":\"#2a3f5f\",\"arrowhead\":0,\"arrowwidth\":1},\"autotypenumbers\":\"strict\",\"coloraxis\":{\"colorbar\":{\"outlinewidth\":0,\"ticks\":\"\"}},\"colorscale\":{\"diverging\":[[0,\"#8e0152\"],[0.1,\"#c51b7d\"],[0.2,\"#de77ae\"],[0.3,\"#f1b6da\"],[0.4,\"#fde0ef\"],[0.5,\"#f7f7f7\"],[0.6,\"#e6f5d0\"],[0.7,\"#b8e186\"],[0.8,\"#7fbc41\"],[0.9,\"#4d9221\"],[1,\"#276419\"]],\"sequential\":[[0.0,\"#0d0887\"],[0.1111111111111111,\"#46039f\"],[0.2222222222222222,\"#7201a8\"],[0.3333333333333333,\"#9c179e\"],[0.4444444444444444,\"#bd3786\"],[0.5555555555555556,\"#d8576b\"],[0.6666666666666666,\"#ed7953\"],[0.7777777777777778,\"#fb9f3a\"],[0.8888888888888888,\"#fdca26\"],[1.0,\"#f0f921\"]],\"sequentialminus\":[[0.0,\"#0d0887\"],[0.1111111111111111,\"#46039f\"],[0.2222222222222222,\"#7201a8\"],[0.3333333333333333,\"#9c179e\"],[0.4444444444444444,\"#bd3786\"],[0.5555555555555556,\"#d8576b\"],[0.6666666666666666,\"#ed7953\"],[0.7777777777777778,\"#fb9f3a\"],[0.8888888888888888,\"#fdca26\"],[1.0,\"#f0f921\"]]},\"colorway\":[\"#636efa\",\"#EF553B\",\"#00cc96\",\"#ab63fa\",\"#FFA15A\",\"#19d3f3\",\"#FF6692\",\"#B6E880\",\"#FF97FF\",\"#FECB52\"],\"font\":{\"color\":\"#2a3f5f\"},\"geo\":{\"bgcolor\":\"white\",\"lakecolor\":\"white\",\"landcolor\":\"white\",\"showlakes\":true,\"showland\":true,\"subunitcolor\":\"#C8D4E3\"},\"hoverlabel\":{\"align\":\"left\"},\"hovermode\":\"closest\",\"mapbox\":{\"style\":\"light\"},\"paper_bgcolor\":\"white\",\"plot_bgcolor\":\"white\",\"polar\":{\"angularaxis\":{\"gridcolor\":\"#EBF0F8\",\"linecolor\":\"#EBF0F8\",\"ticks\":\"\"},\"bgcolor\":\"white\",\"radialaxis\":{\"gridcolor\":\"#EBF0F8\",\"linecolor\":\"#EBF0F8\",\"ticks\":\"\"}},\"scene\":{\"xaxis\":{\"backgroundcolor\":\"white\",\"gridcolor\":\"#DFE8F3\",\"gridwidth\":2,\"linecolor\":\"#EBF0F8\",\"showbackground\":true,\"ticks\":\"\",\"zerolinecolor\":\"#EBF0F8\"},\"yaxis\":{\"backgroundcolor\":\"white\",\"gridcolor\":\"#DFE8F3\",\"gridwidth\":2,\"linecolor\":\"#EBF0F8\",\"showbackground\":true,\"ticks\":\"\",\"zerolinecolor\":\"#EBF0F8\"},\"zaxis\":{\"backgroundcolor\":\"white\",\"gridcolor\":\"#DFE8F3\",\"gridwidth\":2,\"linecolor\":\"#EBF0F8\",\"showbackground\":true,\"ticks\":\"\",\"zerolinecolor\":\"#EBF0F8\"}},\"shapedefaults\":{\"line\":{\"color\":\"#2a3f5f\"}},\"ternary\":{\"aaxis\":{\"gridcolor\":\"#DFE8F3\",\"linecolor\":\"#A2B1C6\",\"ticks\":\"\"},\"baxis\":{\"gridcolor\":\"#DFE8F3\",\"linecolor\":\"#A2B1C6\",\"ticks\":\"\"},\"bgcolor\":\"white\",\"caxis\":{\"gridcolor\":\"#DFE8F3\",\"linecolor\":\"#A2B1C6\",\"ticks\":\"\"}},\"title\":{\"x\":0.05},\"xaxis\":{\"automargin\":true,\"gridcolor\":\"#EBF0F8\",\"linecolor\":\"#EBF0F8\",\"ticks\":\"\",\"title\":{\"standoff\":15},\"zerolinecolor\":\"#EBF0F8\",\"zerolinewidth\":2},\"yaxis\":{\"automargin\":true,\"gridcolor\":\"#EBF0F8\",\"linecolor\":\"#EBF0F8\",\"ticks\":\"\",\"title\":{\"standoff\":15},\"zerolinecolor\":\"#EBF0F8\",\"zerolinewidth\":2}}},\"xaxis\":{\"anchor\":\"y\",\"domain\":[0.55,1.0]},\"yaxis\":{\"anchor\":\"x\",\"domain\":[0.625,1.0]},\"xaxis2\":{\"anchor\":\"y2\",\"domain\":[0.0,0.45]},\"yaxis2\":{\"anchor\":\"x2\",\"domain\":[0.0,0.375]},\"xaxis3\":{\"anchor\":\"y3\",\"domain\":[0.55,1.0]},\"yaxis3\":{\"anchor\":\"x3\",\"domain\":[0.0,0.375]},\"annotations\":[{\"font\":{\"size\":16},\"showarrow\":false,\"text\":\"Sentiment Distribution\",\"x\":0.225,\"xanchor\":\"center\",\"xref\":\"paper\",\"y\":1.0,\"yanchor\":\"bottom\",\"yref\":\"paper\"},{\"font\":{\"size\":16},\"showarrow\":false,\"text\":\"Posts by Platform\",\"x\":0.775,\"xanchor\":\"center\",\"xref\":\"paper\",\"y\":1.0,\"yanchor\":\"bottom\",\"yref\":\"paper\"},{\"font\":{\"size\":16},\"showarrow\":false,\"text\":\"Avg Likes by Sentiment\",\"x\":0.225,\"xanchor\":\"center\",\"xref\":\"paper\",\"y\":0.375,\"yanchor\":\"bottom\",\"yref\":\"paper\"},{\"font\":{\"size\":16},\"showarrow\":false,\"text\":\"Top 10 Countries by Post Count\",\"x\":0.775,\"xanchor\":\"center\",\"xref\":\"paper\",\"y\":0.375,\"yanchor\":\"bottom\",\"yref\":\"paper\"}],\"title\":{\"text\":\"📊 Social Media Sentiment Dashboard\",\"x\":0.5},\"height\":800,\"width\":1100,\"showlegend\":false},                        {\"responsive\": true}                    ).then(function(){\n",
              "                            \n",
              "var gd = document.getElementById('1efa5638-48df-4e36-bbf8-73a1563a220e');\n",
              "var x = new MutationObserver(function (mutations, observer) {{\n",
              "        var display = window.getComputedStyle(gd).display;\n",
              "        if (!display || display === 'none') {{\n",
              "            console.log([gd, 'removed!']);\n",
              "            Plotly.purge(gd);\n",
              "            observer.disconnect();\n",
              "        }}\n",
              "}});\n",
              "\n",
              "// Listen for the removal of the full notebook cells\n",
              "var notebookContainer = gd.closest('#notebook-container');\n",
              "if (notebookContainer) {{\n",
              "    x.observe(notebookContainer, {childList: true});\n",
              "}}\n",
              "\n",
              "// Listen for the clearing of the current output cell\n",
              "var outputEl = gd.closest('.output');\n",
              "if (outputEl) {{\n",
              "    x.observe(outputEl, {childList: true});\n",
              "}}\n",
              "\n",
              "                        })                };                            </script>        </div>\n",
              "</body>\n",
              "</html>"
            ]
          },
          "metadata": {}
        }
      ]
    }
  ]
}